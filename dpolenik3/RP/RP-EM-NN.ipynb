{
 "cells": [
  {
   "cell_type": "code",
   "execution_count": 1,
   "metadata": {},
   "outputs": [
    {
     "name": "stderr",
     "output_type": "stream",
     "text": [
      "C:\\ProgramData\\Anaconda3\\lib\\site-packages\\sklearn\\cross_validation.py:41: DeprecationWarning: This module was deprecated in version 0.18 in favor of the model_selection module into which all the refactored classes and functions are moved. Also note that the interface of the new CV iterators are different from that of this module. This module will be removed in 0.20.\n",
      "  \"This module will be removed in 0.20.\", DeprecationWarning)\n"
     ]
    },
    {
     "data": {
      "text/html": [
       "<div>\n",
       "<style scoped>\n",
       "    .dataframe tbody tr th:only-of-type {\n",
       "        vertical-align: middle;\n",
       "    }\n",
       "\n",
       "    .dataframe tbody tr th {\n",
       "        vertical-align: top;\n",
       "    }\n",
       "\n",
       "    .dataframe thead th {\n",
       "        text-align: right;\n",
       "    }\n",
       "</style>\n",
       "<table border=\"1\" class=\"dataframe\">\n",
       "  <thead>\n",
       "    <tr style=\"text-align: right;\">\n",
       "      <th></th>\n",
       "      <th>RP component 1</th>\n",
       "      <th>RP component 2</th>\n",
       "      <th>RP component 3</th>\n",
       "    </tr>\n",
       "    <tr>\n",
       "      <th>BeerID</th>\n",
       "      <th></th>\n",
       "      <th></th>\n",
       "      <th></th>\n",
       "    </tr>\n",
       "  </thead>\n",
       "  <tbody>\n",
       "    <tr>\n",
       "      <th>53355</th>\n",
       "      <td>-41.560899</td>\n",
       "      <td>89.949537</td>\n",
       "      <td>26.041389</td>\n",
       "    </tr>\n",
       "    <tr>\n",
       "      <th>65753</th>\n",
       "      <td>-45.503350</td>\n",
       "      <td>89.476035</td>\n",
       "      <td>43.620852</td>\n",
       "    </tr>\n",
       "    <tr>\n",
       "      <th>59953</th>\n",
       "      <td>-3.924193</td>\n",
       "      <td>89.738089</td>\n",
       "      <td>79.629250</td>\n",
       "    </tr>\n",
       "    <tr>\n",
       "      <th>19190</th>\n",
       "      <td>-21.893028</td>\n",
       "      <td>96.366064</td>\n",
       "      <td>24.735987</td>\n",
       "    </tr>\n",
       "    <tr>\n",
       "      <th>41651</th>\n",
       "      <td>-35.161706</td>\n",
       "      <td>79.551700</td>\n",
       "      <td>12.283510</td>\n",
       "    </tr>\n",
       "  </tbody>\n",
       "</table>\n",
       "</div>"
      ],
      "text/plain": [
       "        RP component 1  RP component 2  RP component 3\n",
       "BeerID                                                \n",
       "53355       -41.560899       89.949537       26.041389\n",
       "65753       -45.503350       89.476035       43.620852\n",
       "59953        -3.924193       89.738089       79.629250\n",
       "19190       -21.893028       96.366064       24.735987\n",
       "41651       -35.161706       79.551700       12.283510"
      ]
     },
     "execution_count": 1,
     "metadata": {},
     "output_type": "execute_result"
    }
   ],
   "source": [
    "import numpy as np\n",
    "from sklearn.random_projection import GaussianRandomProjection\n",
    "import numpy as np\n",
    "import pandas as pd\n",
    "import matplotlib.pyplot as plt\n",
    "import seaborn as sns; sns.set()  # for plot styling\n",
    "from sklearn.model_selection import train_test_split\n",
    "from sklearn.preprocessing import LabelEncoder\n",
    "from sklearn.mixture import GaussianMixture\n",
    "import sys\n",
    "sys.path.append('../')\n",
    "from Util import loadBeerRaw,loadWine,runNNs\n",
    "from lasagne.layers import DenseLayer\n",
    "from lasagne.layers import InputLayer\n",
    "from lasagne.layers import DropoutLayer\n",
    "from lasagne.nonlinearities import softmax\n",
    "from lasagne.updates import adagrad\n",
    "from nolearn.lasagne import NeuralNet\n",
    "from sklearn.metrics import accuracy_score\n",
    "import time\n",
    "\n",
    "X_train, X_test, y_train, y_test= loadBeerRaw()\n",
    "encoder = LabelEncoder()\n",
    "X_train['SugarScale'] = encoder.fit_transform(X_train['SugarScale']).astype(np.int32)\n",
    "X_train=X_train[['OG','FG','ABV','IBU','Color','BoilSize','BoilTime','Efficiency','SugarScale','StyleID']]\n",
    "X_test['SugarScale'] = encoder.fit_transform(X_test['SugarScale']).astype(np.int32)\n",
    "X_test=X_test[['OG','FG','ABV','IBU','Color','BoilSize','BoilTime','Efficiency','SugarScale','StyleID']]\n",
    "transformer = GaussianRandomProjection(n_components=3)\n",
    "transformer.fit(X_train)\n",
    "rpComponents = transformer.transform(X_train)\n",
    "X_train = pd.DataFrame(data = rpComponents,index=X_train.index\n",
    "             , columns = ['RP component 1', 'RP component 2','RP component 3'])\n",
    "rpComponents = transformer.transform(X_test)\n",
    "X_test = pd.DataFrame(data = rpComponents,index=X_test.index\n",
    "             , columns = ['RP component 1', 'RP component 2','RP component 3'])\n",
    "\n",
    "\n",
    "y_test =encoder.fit_transform(y_test).astype(np.int32)\n",
    "y_train=encoder.fit_transform(y_train).astype(np.int32)\n",
    "num_features = X_train.shape[1]\n",
    "num_classes = len(encoder.classes_)\n",
    "X_test.head()"
   ]
  },
  {
   "cell_type": "code",
   "execution_count": 10,
   "metadata": {},
   "outputs": [],
   "source": [
    "def runNNs(X_train, X_test, y_train, y_test,num_classes,num_features,title,epochs,learningRate):\n",
    "    val_auc_single_train, val_auc_single_test = np.zeros(epochs), np.zeros(epochs)\n",
    "    val_auc_double_train, val_auc_double_test = np.zeros(epochs), np.zeros(epochs)\n",
    "    timeTaken = []\n",
    "    timeTakenRollingAvg =[]\n",
    "    layers = [('input', InputLayer),\n",
    "           ('dense0', DenseLayer),\n",
    "           ('dropout0', DropoutLayer),\n",
    "           ('output', DenseLayer)\n",
    "           ]\n",
    "    net1 = NeuralNet(layers=layers,\n",
    "                 input_shape=(None, num_features),\n",
    "                 dense0_num_units=512, \n",
    "                 dropout0_p=0.1,\n",
    "                 output_num_units=num_classes,\n",
    "                 output_nonlinearity=softmax,\n",
    "                 update=adagrad,\n",
    "                 update_learning_rate=learningRate,\n",
    "                 verbose=0,\n",
    "                 eval_size=0.0,\n",
    "                 max_epochs=1)\n",
    "    \n",
    "    for i in range(epochs):\n",
    "        net1.fit(X_train, y_train)\n",
    "        pred = net1.predict(X_test)\n",
    "        pred = pred.astype(int)\n",
    "        val_auc_single_test[i] = accuracy_score(y_test,pred)\n",
    "        pred = net1.predict(X_train)\n",
    "        pred = pred.astype(int)\n",
    "        val_auc_single_train[i] = accuracy_score(y_train,pred) \n",
    "    \n",
    "    layers = [('input', InputLayer),\n",
    "           ('dense0', DenseLayer),\n",
    "           ('dropout0', DropoutLayer),\n",
    "           ('dense1', DenseLayer),\n",
    "           ('dropout1', DropoutLayer),\n",
    "           ('output', DenseLayer)\n",
    "           ]\n",
    "    net2 = NeuralNet(layers=layers,\n",
    "                 input_shape=(None, num_features),\n",
    "                 dense0_num_units=512, \n",
    "                 dropout0_p=0.1,\n",
    "                 dense1_num_units=256,\n",
    "                 dropout1_p=0.1,\n",
    "                 output_num_units=num_classes,\n",
    "                 output_nonlinearity=softmax,\n",
    "                 update=adagrad,\n",
    "                 update_learning_rate=learningRate,\n",
    "                 eval_size=0.0,\n",
    "                 verbose=0,\n",
    "                 max_epochs=1)\n",
    "    for i in range(epochs):\n",
    "        net2.fit(X_train, y_train)\n",
    "        pred = net2.predict(X_test)\n",
    "        pred = pred.astype(int)\n",
    "        val_auc_double_test[i] = accuracy_score(y_test,pred)\n",
    "        pred = net2.predict(X_train)\n",
    "        pred = pred.astype(int)\n",
    "        val_auc_double_train[i] = accuracy_score(y_train,pred)\n",
    "        \n",
    "    plt.plot(val_auc_single_test, label=\"Test Set : Single layer\")\n",
    "    plt.plot(val_auc_single_train,label=\"Train Set : Single layer\")\n",
    "    plt.plot(val_auc_double_train, label=\"Train Set : Two layer\")\n",
    "    plt.plot(val_auc_double_test, label=\"Test Set : Two layer\")\n",
    "    plt.legend(loc='lower right')\n",
    "    plt.xlabel(\"Epochs (Back Propagation Loop)\")\n",
    "    plt.ylabel(\"Percent Correct\")\n",
    "    plt.title(title+str(learningRate))\n",
    "    plt.savefig(\"../plots/RP/EM/neuralnet/\"+title+str(learningRate)+\".png\")\n",
    "    plt.show()"
   ]
  },
  {
   "cell_type": "code",
   "execution_count": 11,
   "metadata": {},
   "outputs": [],
   "source": [
    "gmm = GaussianMixture(n_components=8)\n",
    "gmm.fit(X_train)\n",
    "y_gmm = gmm.predict(X_train)\n",
    "# with Clusters\n",
    "X_train_with_Cluster=X_train.copy()\n",
    "X_train_with_Cluster[\"Cluster\"] = y_gmm"
   ]
  },
  {
   "cell_type": "code",
   "execution_count": 12,
   "metadata": {},
   "outputs": [],
   "source": [
    "y_gmm = gmm.predict(X_test)\n",
    "X_test_with_Cluster=X_test.copy()\n",
    "X_test_with_Cluster[\"Cluster\"]=y_gmm"
   ]
  },
  {
   "cell_type": "code",
   "execution_count": 13,
   "metadata": {},
   "outputs": [
    {
     "name": "stderr",
     "output_type": "stream",
     "text": [
      "C:\\ProgramData\\Anaconda3\\lib\\site-packages\\nolearn\\lasagne\\base.py:370: UserWarning: The 'eval_size' argument has been deprecated, please use the 'train_split' parameter instead, e.g.\n",
      "train_split=TrainSplit(eval_size=0.4)\n",
      "  warn(\"The 'eval_size' argument has been deprecated, please use \"\n",
      "C:\\ProgramData\\Anaconda3\\lib\\site-packages\\nolearn\\lasagne\\base.py:370: UserWarning: The 'eval_size' argument has been deprecated, please use the 'train_split' parameter instead, e.g.\n",
      "train_split=TrainSplit(eval_size=0.4)\n",
      "  warn(\"The 'eval_size' argument has been deprecated, please use \"\n"
     ]
    },
    {
     "data": {
      "image/png": "[encoded data removed]",
      "text/plain": [
       "<Figure size 432x288 with 1 Axes>"
      ]
     },
     "metadata": {},
     "output_type": "display_data"
    }
   ],
   "source": [
    "learningRates=[.01]\n",
    "for i in learningRates:\n",
    "    runNNs(X_train_with_Cluster, X_test_with_Cluster, y_train, y_test,num_classes,num_features+1,\"Beer Recipe Data Learning Rate.\",100,i)"
   ]
  },
  {
   "cell_type": "code",
   "execution_count": null,
   "metadata": {},
   "outputs": [],
   "source": []
  }
 ],
 "metadata": {
  "kernelspec": {
   "display_name": "Python 3",
   "language": "python",
   "name": "python3"
  },
  "language_info": {
   "codemirror_mode": {
    "name": "ipython",
    "version": 3
   },
   "file_extension": ".py",
   "mimetype": "text/x-python",
   "name": "python",
   "nbconvert_exporter": "python",
   "pygments_lexer": "ipython3",
   "version": "3.6.5"
  }
 },
 "nbformat": 4,
 "nbformat_minor": 2
}
