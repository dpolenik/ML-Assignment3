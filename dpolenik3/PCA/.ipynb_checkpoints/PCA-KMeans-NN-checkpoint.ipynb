{
 "cells": [
  {
   "cell_type": "code",
   "execution_count": 4,
   "metadata": {},
   "outputs": [
    {
     "data": {
      "text/html": [
       "<div>\n",
       "<style scoped>\n",
       "    .dataframe tbody tr th:only-of-type {\n",
       "        vertical-align: middle;\n",
       "    }\n",
       "\n",
       "    .dataframe tbody tr th {\n",
       "        vertical-align: top;\n",
       "    }\n",
       "\n",
       "    .dataframe thead th {\n",
       "        text-align: right;\n",
       "    }\n",
       "</style>\n",
       "<table border=\"1\" class=\"dataframe\">\n",
       "  <thead>\n",
       "    <tr style=\"text-align: right;\">\n",
       "      <th></th>\n",
       "      <th>PCA component 1</th>\n",
       "      <th>PCA component 2</th>\n",
       "      <th>PCA component 3</th>\n",
       "    </tr>\n",
       "    <tr>\n",
       "      <th>BeerID</th>\n",
       "      <th></th>\n",
       "      <th></th>\n",
       "      <th></th>\n",
       "    </tr>\n",
       "  </thead>\n",
       "  <tbody>\n",
       "    <tr>\n",
       "      <th>53355</th>\n",
       "      <td>-19.612285</td>\n",
       "      <td>-53.193184</td>\n",
       "      <td>14.281987</td>\n",
       "    </tr>\n",
       "    <tr>\n",
       "      <th>65753</th>\n",
       "      <td>-24.612241</td>\n",
       "      <td>-61.578614</td>\n",
       "      <td>57.199768</td>\n",
       "    </tr>\n",
       "    <tr>\n",
       "      <th>59953</th>\n",
       "      <td>-0.998279</td>\n",
       "      <td>31.844296</td>\n",
       "      <td>15.011998</td>\n",
       "    </tr>\n",
       "    <tr>\n",
       "      <th>19190</th>\n",
       "      <td>0.856971</td>\n",
       "      <td>-61.674756</td>\n",
       "      <td>69.702189</td>\n",
       "    </tr>\n",
       "    <tr>\n",
       "      <th>41651</th>\n",
       "      <td>2.013663</td>\n",
       "      <td>-56.039091</td>\n",
       "      <td>15.810355</td>\n",
       "    </tr>\n",
       "  </tbody>\n",
       "</table>\n",
       "</div>"
      ],
      "text/plain": [
       "        PCA component 1  PCA component 2  PCA component 3\n",
       "BeerID                                                   \n",
       "53355        -19.612285       -53.193184        14.281987\n",
       "65753        -24.612241       -61.578614        57.199768\n",
       "59953         -0.998279        31.844296        15.011998\n",
       "19190          0.856971       -61.674756        69.702189\n",
       "41651          2.013663       -56.039091        15.810355"
      ]
     },
     "execution_count": 4,
     "metadata": {},
     "output_type": "execute_result"
    }
   ],
   "source": [
    "import numpy as np\n",
    "import pandas as pd\n",
    "import matplotlib.pyplot as plt\n",
    "import seaborn as sns; sns.set()  # for plot styling\n",
    "from sklearn.decomposition import PCA\n",
    "from sklearn.model_selection import train_test_split\n",
    "from sklearn.preprocessing import LabelEncoder\n",
    "from sklearn.cluster import KMeans\n",
    "import sys\n",
    "sys.path.append('../')\n",
    "from Util import loadBeerRaw,loadWine,runNNs\n",
    "X_train, X_test, y_train, y_test= loadBeerRaw()\n",
    "encoder = LabelEncoder()\n",
    "X_train['SugarScale'] = encoder.fit_transform(X_train['SugarScale']).astype(np.int32)\n",
    "X_train=X_train[['OG','FG','ABV','IBU','Color','BoilSize','BoilTime','Efficiency','SugarScale','StyleID']]\n",
    "X_test['SugarScale'] = encoder.fit_transform(X_test['SugarScale']).astype(np.int32)\n",
    "X_test=X_test[['OG','FG','ABV','IBU','Color','BoilSize','BoilTime','Efficiency','SugarScale','StyleID']]\n",
    "transformer = PCA(n_components=3)\n",
    "principalComponents =transformer.fit_transform(X_train)\n",
    "X_train = pd.DataFrame(data = principalComponents,index=X_train.index\n",
    "             , columns = ['PCA component 1', 'PCA component 2','PCA component 3'])\n",
    "principalComponents = transformer.transform(X_test)\n",
    "X_test = pd.DataFrame(data = principalComponents,index=X_test.index\n",
    "             , columns = ['PCA component 1', 'PCA component 2','PCA component 3'])\n",
    "\n",
    "\n",
    "y_test =encoder.fit_transform(y_test).astype(np.int32)\n",
    "y_train=encoder.fit_transform(y_train).astype(np.int32)\n",
    "num_features = X_train.shape[1]\n",
    "num_classes = len(encoder.classes_)\n",
    "X_test.head()"
   ]
  },
  {
   "cell_type": "code",
   "execution_count": 2,
   "metadata": {},
   "outputs": [],
   "source": [
    "kmeans = KMeans(n_clusters=8, random_state=0)\n",
    "kmeans.fit(X_train)\n",
    "y_kmeans = kmeans.predict(X_train)\n",
    "# with Clusters\n",
    "X_train_with_Cluster=X_train.copy()\n",
    "X_train_with_Cluster[\"Cluster\"] = y_kmeans\n",
    "y_kmeans = kmeans.predict(X_test)\n",
    "X_test_with_Cluster=X_test.copy()\n",
    "X_test_with_Cluster[\"Cluster\"]=y_kmeans"
   ]
  },
  {
   "cell_type": "code",
   "execution_count": 3,
   "metadata": {},
   "outputs": [
    {
     "name": "stderr",
     "output_type": "stream",
     "text": [
      "C:\\ProgramData\\Anaconda3\\lib\\site-packages\\nolearn\\lasagne\\base.py:370: UserWarning: The 'eval_size' argument has been deprecated, please use the 'train_split' parameter instead, e.g.\n",
      "train_split=TrainSplit(eval_size=0.4)\n",
      "  warn(\"The 'eval_size' argument has been deprecated, please use \"\n",
      "C:\\ProgramData\\Anaconda3\\lib\\site-packages\\nolearn\\lasagne\\base.py:370: UserWarning: The 'eval_size' argument has been deprecated, please use the 'train_split' parameter instead, e.g.\n",
      "train_split=TrainSplit(eval_size=0.4)\n",
      "  warn(\"The 'eval_size' argument has been deprecated, please use \"\n"
     ]
    },
    {
     "data": {
      "image/png": "[encoded data removed]",
      "text/plain": [
       "<Figure size 432x288 with 1 Axes>"
      ]
     },
     "metadata": {},
     "output_type": "display_data"
    }
   ],
   "source": [
    "learningRates=[.01]\n",
    "for i in learningRates:\n",
    "    runNNs(X_train_with_Cluster, X_test_with_Cluster, y_train, y_test,num_classes,num_features+1,\"Beer Recipe Data Learning Rate.\",100,i)"
   ]
  },
  {
   "cell_type": "code",
   "execution_count": null,
   "metadata": {},
   "outputs": [
    {
     "name": "stderr",
     "output_type": "stream",
     "text": [
      "C:\\ProgramData\\Anaconda3\\lib\\site-packages\\nolearn\\lasagne\\base.py:370: UserWarning: The 'eval_size' argument has been deprecated, please use the 'train_split' parameter instead, e.g.\n",
      "train_split=TrainSplit(eval_size=0.4)\n",
      "  warn(\"The 'eval_size' argument has been deprecated, please use \"\n"
     ]
    }
   ],
   "source": [
    "X_train, X_test, y_train, y_test= loadWine()\n",
    "transformer = PCA(n_components=3)\n",
    "principalComponents =transformer.fit_transform(X_train)\n",
    "X_train = pd.DataFrame(data = principalComponents,index=X_train.index\n",
    "             , columns = ['PCA component 1', 'PCA component 2','PCA component 3'])\n",
    "principalComponents = transformer.transform(X_test)\n",
    "X_test = pd.DataFrame(data = principalComponents,index=X_test.index\n",
    "             , columns = ['PCA component 1', 'PCA component 2','PCA component 3'])\n",
    "\n",
    "num_features = X_train.shape[1]\n",
    "num_classes = 10\n",
    "\n",
    "kmeans = KMeans(n_clusters=8, random_state=0)\n",
    "kmeans.fit(X_train)\n",
    "y_kmeans = kmeans.predict(X_train)\n",
    "# with Clusters\n",
    "X_train_with_Cluster=X_train.copy()\n",
    "X_train_with_Cluster[\"Cluster\"] = y_kmeans\n",
    "y_kmeans = kmeans.predict(X_test)\n",
    "X_test_with_Cluster=X_test.copy()\n",
    "X_test_with_Cluster[\"Cluster\"]=y_kmeans\n",
    "\n",
    "\n",
    "learningRates=[.01]\n",
    "for i in learningRates:\n",
    "    runNNs(X_train_with_Cluster, X_test_with_Cluster, y_train, y_test,num_classes,num_features+1,\"Beer Recipe Data Learning Rate.\",100,i)"
   ]
  },
  {
   "cell_type": "code",
   "execution_count": null,
   "metadata": {},
   "outputs": [],
   "source": []
  }
 ],
 "metadata": {
  "kernelspec": {
   "display_name": "Python 3",
   "language": "python",
   "name": "python3"
  },
  "language_info": {
   "codemirror_mode": {
    "name": "ipython",
    "version": 3
   },
   "file_extension": ".py",
   "mimetype": "text/x-python",
   "name": "python",
   "nbconvert_exporter": "python",
   "pygments_lexer": "ipython3",
   "version": "3.6.5"
  }
 },
 "nbformat": 4,
 "nbformat_minor": 2
}
