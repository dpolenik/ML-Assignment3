{
 "cells": [
  {
   "cell_type": "code",
   "execution_count": 2,
   "metadata": {},
   "outputs": [
    {
     "ename": "NameError",
     "evalue": "name 'FastICA' is not defined",
     "output_type": "error",
     "traceback": [
      "\u001b[1;31m---------------------------------------------------------------------------\u001b[0m",
      "\u001b[1;31mNameError\u001b[0m                                 Traceback (most recent call last)",
      "\u001b[1;32m<ipython-input-2-0f1dc6eeb776>\u001b[0m in \u001b[0;36m<module>\u001b[1;34m()\u001b[0m\n\u001b[0;32m     15\u001b[0m \u001b[0mX_test\u001b[0m\u001b[1;33m[\u001b[0m\u001b[1;34m'SugarScale'\u001b[0m\u001b[1;33m]\u001b[0m \u001b[1;33m=\u001b[0m \u001b[0mencoder\u001b[0m\u001b[1;33m.\u001b[0m\u001b[0mfit_transform\u001b[0m\u001b[1;33m(\u001b[0m\u001b[0mX_test\u001b[0m\u001b[1;33m[\u001b[0m\u001b[1;34m'SugarScale'\u001b[0m\u001b[1;33m]\u001b[0m\u001b[1;33m)\u001b[0m\u001b[1;33m.\u001b[0m\u001b[0mastype\u001b[0m\u001b[1;33m(\u001b[0m\u001b[0mnp\u001b[0m\u001b[1;33m.\u001b[0m\u001b[0mint32\u001b[0m\u001b[1;33m)\u001b[0m\u001b[1;33m\u001b[0m\u001b[0m\n\u001b[0;32m     16\u001b[0m \u001b[0mX_test\u001b[0m\u001b[1;33m=\u001b[0m\u001b[0mX_test\u001b[0m\u001b[1;33m[\u001b[0m\u001b[1;33m[\u001b[0m\u001b[1;34m'OG'\u001b[0m\u001b[1;33m,\u001b[0m\u001b[1;34m'FG'\u001b[0m\u001b[1;33m,\u001b[0m\u001b[1;34m'ABV'\u001b[0m\u001b[1;33m,\u001b[0m\u001b[1;34m'IBU'\u001b[0m\u001b[1;33m,\u001b[0m\u001b[1;34m'Color'\u001b[0m\u001b[1;33m,\u001b[0m\u001b[1;34m'BoilSize'\u001b[0m\u001b[1;33m,\u001b[0m\u001b[1;34m'BoilTime'\u001b[0m\u001b[1;33m,\u001b[0m\u001b[1;34m'Efficiency'\u001b[0m\u001b[1;33m,\u001b[0m\u001b[1;34m'SugarScale'\u001b[0m\u001b[1;33m,\u001b[0m\u001b[1;34m'StyleID'\u001b[0m\u001b[1;33m]\u001b[0m\u001b[1;33m]\u001b[0m\u001b[1;33m\u001b[0m\u001b[0m\n\u001b[1;32m---> 17\u001b[1;33m ica = FastICA(n_components=3,\n\u001b[0m\u001b[0;32m     18\u001b[0m          random_state=0)\n\u001b[0;32m     19\u001b[0m \u001b[0micaComponents\u001b[0m \u001b[1;33m=\u001b[0m\u001b[0mica\u001b[0m\u001b[1;33m.\u001b[0m\u001b[0mfit_transform\u001b[0m\u001b[1;33m(\u001b[0m\u001b[0mX_train\u001b[0m\u001b[1;33m[\u001b[0m\u001b[1;33m[\u001b[0m\u001b[1;34m'OG'\u001b[0m\u001b[1;33m,\u001b[0m\u001b[1;34m'FG'\u001b[0m\u001b[1;33m,\u001b[0m\u001b[1;34m'ABV'\u001b[0m\u001b[1;33m,\u001b[0m\u001b[1;34m'IBU'\u001b[0m\u001b[1;33m,\u001b[0m\u001b[1;34m'Color'\u001b[0m\u001b[1;33m,\u001b[0m\u001b[1;34m'BoilSize'\u001b[0m\u001b[1;33m,\u001b[0m\u001b[1;34m'BoilTime'\u001b[0m\u001b[1;33m,\u001b[0m\u001b[1;34m'Efficiency'\u001b[0m\u001b[1;33m,\u001b[0m\u001b[1;34m'SugarScale'\u001b[0m\u001b[1;33m,\u001b[0m\u001b[1;34m'StyleID'\u001b[0m\u001b[1;33m]\u001b[0m\u001b[1;33m]\u001b[0m\u001b[1;33m)\u001b[0m\u001b[1;33m\u001b[0m\u001b[0m\n",
      "\u001b[1;31mNameError\u001b[0m: name 'FastICA' is not defined"
     ]
    }
   ],
   "source": [
    "import numpy as np\n",
    "import pandas as pd\n",
    "import matplotlib.pyplot as plt\n",
    "import seaborn as sns; sns.set()  # for plot styling\n",
    "from sklearn.model_selection import train_test_split\n",
    "from sklearn.preprocessing import LabelEncoder\n",
    "from sklearn.decomposition import FastICA\n",
    "from sklearn.mixture import GaussianMixture\n",
    "import sys\n",
    "sys.path.append('../')\n",
    "from Util import loadBeerRaw,loadWine,runNNs\n",
    "X_train, X_test, y_train, y_test= loadBeerRaw()\n",
    "encoder = LabelEncoder()\n",
    "X_train['SugarScale'] = encoder.fit_transform(X_train['SugarScale']).astype(np.int32)\n",
    "X_train=X_train[['OG','FG','ABV','IBU','Color','BoilSize','BoilTime','Efficiency','SugarScale','StyleID']]\n",
    "X_test['SugarScale'] = encoder.fit_transform(X_test['SugarScale']).astype(np.int32)\n",
    "X_test=X_test[['OG','FG','ABV','IBU','Color','BoilSize','BoilTime','Efficiency','SugarScale','StyleID']]\n",
    "ica = FastICA(n_components=3,\n",
    "         random_state=0)\n",
    "icaComponents =ica.fit_transform(X_train[['OG','FG','ABV','IBU','Color','BoilSize','BoilTime','Efficiency','SugarScale','StyleID']])\n",
    "X_train = pd.DataFrame(data = icaComponents,index=X_train.index\n",
    "             , columns = ['ICA component 1', 'ICA component 2','ICA component 3'])\n",
    "rpComponents = transformer.transform(X_test)\n",
    "X_test = pd.DataFrame(data = rpComponents,index=X_test.index\n",
    "             , columns = ['ICA component 1', 'ICA component 2','ICA component 3'])\n",
    "\n",
    "\n",
    "y_test =encoder.fit_transform(y_test).astype(np.int32)\n",
    "y_train=encoder.fit_transform(y_train).astype(np.int32)\n",
    "num_features = X_train.shape[1]\n",
    "num_classes = len(encoder.classes_)\n",
    "X_test.head()"
   ]
  },
  {
   "cell_type": "code",
   "execution_count": null,
   "metadata": {},
   "outputs": [],
   "source": []
  }
 ],
 "metadata": {
  "kernelspec": {
   "display_name": "Python 3",
   "language": "python",
   "name": "python3"
  },
  "language_info": {
   "codemirror_mode": {
    "name": "ipython",
    "version": 3
   },
   "file_extension": ".py",
   "mimetype": "text/x-python",
   "name": "python",
   "nbconvert_exporter": "python",
   "pygments_lexer": "ipython3",
   "version": "3.6.5"
  }
 },
 "nbformat": 4,
 "nbformat_minor": 2
}
